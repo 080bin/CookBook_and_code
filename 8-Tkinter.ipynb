{
 "cells": [
  {
   "cell_type": "markdown",
   "metadata": {},
   "source": [
    "# GUI介绍\n",
    "- GraphicalUserInterface,\n",
    "- GUI for Python: Tkinter, wxPython, PyQt\n",
    "- TKinter:\n",
    "    - 绑定的是TK GUI工具集，用途Python包装的Tcl代码\n",
    "- PyGTK\n",
    "    - Tkinter的替代品\n",
    "- wxPython\n",
    "    - 跨平台的Python GUI\n",
    "- PyQt\n",
    "    - 跨平台的\n",
    "    - 商业授权可能由问题\n",
    "   \n",
    "- 推荐资料\n",
    "    - 辛星GUI， 辛星Python\n",
    "    - Python GUI Programming cookbook\n",
    "    - Tkinter reference a GUI for Python"
   ]
  },
  {
   "cell_type": "code",
   "execution_count": 4,
   "metadata": {
    "collapsed": true
   },
   "outputs": [],
   "source": [
    "# 测试tkinter包是否好用\n",
    "import tkinter\n",
    "\n",
    "tkinter._test()"
   ]
  },
  {
   "cell_type": "code",
   "execution_count": 6,
   "metadata": {
    "collapsed": true
   },
   "outputs": [],
   "source": [
    "# hello world\n",
    "import tkinter\n",
    "\n",
    "base = tkinter.Tk()\n",
    "\n",
    "# 消息循环\n",
    "base.mainloop()"
   ]
  },
  {
   "cell_type": "markdown",
   "metadata": {},
   "source": [
    "###  Tkinter 常用组件\n",
    "- 按钮\n",
    "\n",
    "        Button\t\t\t\t按钮组件\n",
    "        RadioButton\t\t\t单选框组件\n",
    "        CheckButton\t\t\t选择按钮组件\n",
    "        Listbox\t\t\t\t列表框组件\n",
    "        \n",
    "- 文本输入组件\n",
    "    \n",
    "        Entry\t\t\t\t单行文本框组件\n",
    "        Text\t\t\t\t多行文本框组件\n",
    "        \n",
    "- 标签组件\n",
    "\n",
    "        Label\t\t\t\t标签组件，可以显示图片和文字\n",
    "        Message\t\t\t\t标签组件，可以根据内容将文字换行\n",
    "\t\n",
    "- 菜单\n",
    "        \n",
    "        Menu\t\t\t\t菜单组件\n",
    "        MenuButton\t\t\t菜单按钮组件，可以使用Menu代替\n",
    "        \n",
    "- 滚动条\n",
    "        \n",
    "        scale\t\t\t\t滑块组件\n",
    "        Scrollbar\t\t\t滚动条组件\n",
    "        \n",
    "-  其他组件\n",
    "\n",
    "        Canvas\t\t\t\t画布组件\n",
    "        Frame\t\t\t\t框架组件，将多个组件编组\n",
    "        Toplevel\t\t\t创建子窗口容器组件\n",
    "        \n",
    "### 组件的大致使用步骤\n",
    "1. 创建总面板\n",
    "2. 创建面板上的各种组件\n",
    "    1. 指定组件的父组件，即依附关系\n",
    "    2. 利用相应的属性对组件进行设置\n",
    "    3. 给组件安排布局\n",
    "    \n",
    "3. 同步骤2相似，创建好多个组件\n",
    "4. 最后，启动总面板的消息循环"
   ]
  },
  {
   "cell_type": "code",
   "execution_count": 7,
   "metadata": {
    "collapsed": true
   },
   "outputs": [],
   "source": [
    "# Label的例子\n",
    "\n",
    "import tkinter\n",
    "\n",
    "base = tkinter.Tk()\n",
    "# 负责标题\n",
    "base.wm_title(\"Label Test\")\n",
    "\n",
    "lb = tkinter.Label(base, text=\"Python Label\")\n",
    "# 给相应组件指定布局\n",
    "lb.pack()\n",
    "\n",
    "\n",
    "base.mainloop()"
   ]
  },
  {
   "cell_type": "code",
   "execution_count": 8,
   "metadata": {
    "collapsed": true
   },
   "outputs": [],
   "source": [
    "# 设置Label的例子\n",
    "import tkinter\n",
    "\n",
    "\n",
    "base = tkinter.Tk()\n",
    "base.wm_title(\"Label Test\")\n",
    "# 支持属性很多background, font, underline等\n",
    "# 第一个参数，制定所属\n",
    "lb1= tkinter.Label(base, text=\"Python AI\")\n",
    "lb1.pack()\n",
    "\n",
    "lb2= tkinter.Label(base, text=\"绿色背景\", background=\"green\")\n",
    "lb2.pack()\n",
    "\n",
    "lb3= tkinter.Label(base, text=\"蓝色背景\", background=\"blue\")\n",
    "lb3.pack()\n",
    "\n",
    "base.mainloop()\n"
   ]
  },
  {
   "cell_type": "code",
   "execution_count": 12,
   "metadata": {},
   "outputs": [
    {
     "data": {
      "text/plain": [
       "'\\nButton的属性：\\n\\nanchor \\t\\t\\t\\t设置按钮中文字的对其方式，相对于按钮的中心位置\\nbackground(bg) \\t\\t设置按钮的背景颜色\\nforeground(fg)\\t\\t设置按钮的前景色（文字的颜色）\\nborderwidth(bd)\\t\\t设置按钮边框宽度\\ncursor\\t\\t\\t\\t设置鼠标在按钮上的样式\\ncommand\\t\\t\\t\\t设定按钮点击时触发的函数\\nbitmap\\t\\t\\t\\t设置按钮上显示的位图\\nfont\\t\\t\\t\\t设置按钮上文本的字体\\nwidth\\t\\t\\t\\t设置按钮的宽度  (字符个数)\\nheight\\t\\t\\t\\t设置按钮的高度  (字符个数)\\nstate\\t\\t\\t\\t设置按钮的状态\\ntext\\t\\t\\t\\t设置按钮上的文字\\nimage\\t\\t\\t\\t设置按钮上的图片\\n\\n'"
      ]
     },
     "execution_count": 12,
     "metadata": {},
     "output_type": "execute_result"
    }
   ],
   "source": [
    "# Button的案例\n",
    "\n",
    "import tkinter\n",
    "\n",
    "def showLabel():\n",
    "    global baseFrame\n",
    "    # 在函数中定义了一个label\n",
    "    # label的父组件是baseFrame\n",
    "    lb = tkinter.Label(baseFrame, text=\"显示Label\")\n",
    "    lb.pack()\n",
    "\n",
    "\n",
    "baseFrame = tkinter.Tk()\n",
    "# 生成一个按钮\n",
    "# command参数指示，当按钮被按下的时候，执行哪个函数\n",
    "btn = tkinter.Button(baseFrame, text=\"Show Label\", command=showLabel)\n",
    "#btn = tkinter.Button(baseFrame, text=\"Show Label\")\n",
    "btn.pack()\n",
    "\n",
    "baseFrame.mainloop()\n",
    "\n",
    "'''\n",
    "Button的属性：\n",
    "\n",
    "anchor \t\t\t\t设置按钮中文字的对其方式，相对于按钮的中心位置\n",
    "background(bg) \t\t设置按钮的背景颜色\n",
    "foreground(fg)\t\t设置按钮的前景色（文字的颜色）\n",
    "borderwidth(bd)\t\t设置按钮边框宽度\n",
    "cursor\t\t\t\t设置鼠标在按钮上的样式\n",
    "command\t\t\t\t设定按钮点击时触发的函数\n",
    "bitmap\t\t\t\t设置按钮上显示的位图\n",
    "font\t\t\t\t设置按钮上文本的字体\n",
    "width\t\t\t\t设置按钮的宽度  (字符个数)\n",
    "height\t\t\t\t设置按钮的高度  (字符个数)\n",
    "state\t\t\t\t设置按钮的状态\n",
    "text\t\t\t\t设置按钮上的文字\n",
    "image\t\t\t\t设置按钮上的图片\n",
    "\n",
    "'''"
   ]
  },
  {
   "cell_type": "markdown",
   "metadata": {},
   "source": [
    "### 组件布局\n",
    "- 控制组件的摆放方式\n",
    "- 三种布局：\n",
    "    - pack: 按照方位布局\n",
    "    - place: 按照坐标布局\n",
    "    - grid： 网格布局\n",
    "    \n",
    "- pack布局\n",
    "    - 最简单，代码量最少，挨个摆放，默认从上倒下，系统自动设置\n",
    "    - 通用使用方式为： 组件对象.pack(设置，，，，，，，）\n",
    "    - side: 停靠方位， 可选值为LEFT,TOP,RIGHT,BOTTON\n",
    "    - fill: 填充方式,X,Y,BOTH,NONE\n",
    "    - expande: YES/NO\n",
    "    - anchor: N,E,S,W,CENTER\n",
    "    - ipadx: x方向的内边距\n",
    "    - ipady: y\n",
    "    - padx: x方向外边界\n",
    "    - pady： y........\n",
    "    \n",
    "- grid布局\n",
    "    - 通用使用方式：组件对象.grid(设置,,,,,,,)\n",
    "    - 利用row，column编号，都是从0开始\n",
    "    - sticky： N,E,S,W表示上下左右，用来决定组件从哪个方向开始\n",
    "    - 支持ipadx，padx等参数，跟pack函数含义一样\n",
    "    - 支持rowspan，columnspan，表示跨行，跨列数量\n",
    "\n",
    "- place布局\n",
    "    - 明确方位的摆放\n",
    "    - 相对位置布局，随意改变窗口大小会导致混乱\n",
    "    - 使用place函数，分为绝对布局和相对布局，绝对布局使用x，y参数\n",
    "    - 相对布局使用relx，rely, relheight, relwidth"
   ]
  },
  {
   "cell_type": "code",
   "execution_count": 14,
   "metadata": {
    "collapsed": true
   },
   "outputs": [],
   "source": [
    "# pack布局案例\n",
    "import tkinter\n",
    "\n",
    "baseFrame = tkinter.Tk()\n",
    "# 以下所有代码都是创建一个组件，然后布局\n",
    "\n",
    "btn1 = tkinter.Button(baseFrame, text='A')\n",
    "btn1.pack(side=tkinter.LEFT, expand=tkinter.YES, fill=tkinter.Y)\n",
    "\n",
    "btn2 = tkinter.Button(baseFrame, text='B')\n",
    "btn2.pack(side=tkinter.TOP, expand=tkinter.YES, fill=tkinter.BOTH)\n",
    "\n",
    "btn2 = tkinter.Button(baseFrame, text='C')\n",
    "btn2.pack(side=tkinter.RIGHT, expand=tkinter.YES, fill=tkinter.NONE, \n",
    "          anchor=tkinter.NE)\n",
    "\n",
    "btn2 = tkinter.Button(baseFrame, text='D')\n",
    "btn2.pack(side=tkinter.LEFT, expand=tkinter.NO, fill=tkinter.Y)\n",
    "\n",
    "btn2 = tkinter.Button(baseFrame, text='E')\n",
    "btn2.pack(side=tkinter.TOP, expand=tkinter.NO, fill=tkinter.BOTH)\n",
    "\n",
    "btn2 = tkinter.Button(baseFrame, text='F')\n",
    "btn2.pack(side=tkinter.BOTTOM, expand=tkinter.YES)\n",
    "\n",
    "btn2 = tkinter.Button(baseFrame, text='G')\n",
    "btn2.pack(anchor=tkinter.SE)\n",
    "\n",
    "\n",
    "\n",
    "baseFrame.mainloop()\n"
   ]
  },
  {
   "cell_type": "code",
   "execution_count": 17,
   "metadata": {},
   "outputs": [],
   "source": [
    "# grid布局案例\n",
    "import tkinter\n",
    "\n",
    "baseFrame = tkinter.Tk()\n",
    "\n",
    "#下面被注释掉的一行代码跟下面两行代码等效\n",
    "#lb1 = tkinter.Label(baseFrame, text=\"账号: \").grid(row=0, sticky= tkinter.W)\n",
    "lb1 = tkinter.Label(baseFrame, text=\"账号: \")\n",
    "lb1.grid(row=0, sticky= tkinter.W)\n",
    "\n",
    "en = tkinter.Entry(baseFrame)\n",
    "en.grid(row=0, column=1, sticky=tkinter.E)\n",
    "\n",
    "lb2 = tkinter.Label(baseFrame, text=\"密码: \").grid(row=1, sticky= tkinter.W)\n",
    "tkinter.Entry(baseFrame).grid(row=1, column=1, sticky=tkinter.E)\n",
    "\n",
    "btn = tkinter.Button(baseFrame, text=\"登录\").grid(row=2, column=1, sticky=tkinter.W)\n",
    "\n",
    "\n",
    "baseFrame.mainloop()"
   ]
  },
  {
   "cell_type": "markdown",
   "metadata": {},
   "source": [
    "## 消息机制\n"
   ]
  },
  {
   "cell_type": "code",
   "execution_count": null,
   "metadata": {
    "collapsed": true
   },
   "outputs": [],
   "source": []
  },
  {
   "cell_type": "code",
   "execution_count": null,
   "metadata": {
    "collapsed": true
   },
   "outputs": [],
   "source": []
  }
 ],
 "metadata": {
  "kernelspec": {
   "display_name": "Python 3",
   "language": "python",
   "name": "python3"
  },
  "language_info": {
   "codemirror_mode": {
    "name": "ipython",
    "version": 3
   },
   "file_extension": ".py",
   "mimetype": "text/x-python",
   "name": "python",
   "nbconvert_exporter": "python",
   "pygments_lexer": "ipython3",
   "version": "3.6.3"
  }
 },
 "nbformat": 4,
 "nbformat_minor": 2
}
